{
 "cells": [
  {
   "cell_type": "code",
   "execution_count": 9,
   "id": "4fbb6611-f5a2-4722-a100-8393649c1d59",
   "metadata": {},
   "outputs": [],
   "source": [
    "import torch\n",
    "import torch.nn.functional as F\n",
    "import matplotlib.pyplot as plt\n",
    "import random\n",
    "\n",
    "words = open('names.txt', 'r').read().splitlines()\n",
    "\n",
    "# Create the dataset\n",
    "chars = sorted(list(set(''.join(words)))) \n",
    "stoi = {s:i+1 for i,s in enumerate(chars)}\n",
    "stoi['*'] = 0\n",
    "itos = {i:s for s,i in stoi.items()}\n",
    "no_of_chs = len(itos)\n",
    "\n",
    "# Hyperparameters - Model Design\n",
    "context_length = 5 # how many previous characters will be taken into account before predicting the next one\n",
    "emb_per_ch = 30 # number of embedding dimensions per character\n",
    "hidden_layer_neurons = 200 # number of neurons in the hidden layer\n",
    "\n",
    "\n",
    "def build_dataset(words):\n",
    "    X, Y = [], []\n",
    "    for w in words:\n",
    "        chs = ['*'] + list(w) + ['*']\n",
    "        context = [0] * context_length\n",
    "        for ch in w + '*':\n",
    "            ix = stoi[ch]\n",
    "            X.append(context)\n",
    "            Y.append(ix)\n",
    "            context = context[1:] + [ix]\n",
    "    \n",
    "    X = torch.tensor(X)\n",
    "    Y = torch.tensor(Y)\n",
    "    n = len(X)\n",
    "    return X, Y\n",
    "\n",
    "# Randomly mix the data before splitting\n",
    "random.seed(42)\n",
    "random.shuffle(words)\n",
    "n1 = int(0.8*len(words))\n",
    "n2 = int(0.9*len(words))\n",
    "\n",
    "# Dataset splits\n",
    "Xtr, Ytr = build_dataset(words[:n1]) # Training\n",
    "Xdev, Ydev = build_dataset(words[n1:n2]) # Dev\n",
    "Xtest, Ytest = build_dataset(words[n2:]) # Test\n",
    "\n",
    "# Parameters\n",
    "C = torch.randn(no_of_chs, emb_per_ch) # each possible character has emb_per_ch embeddings\n",
    "W1 = torch.randn(emb_per_ch * context_length, hidden_layer_neurons) # hidden layer weights, \n",
    "b1 = torch.randn(hidden_layer_neurons) # hidden layer biases\n",
    "W2 = torch.randn(hidden_layer_neurons, no_of_chs) # output layer weights\n",
    "b2 = torch.randn(no_of_chs) # output layer biases\n",
    "parameters = [W1, b1, W2, b2, C]\n",
    "\n",
    "for p in parameters:\n",
    "    p.requires_grad = True"
   ]
  },
  {
   "cell_type": "code",
   "execution_count": 10,
   "id": "f78de027-979f-4801-bfda-e5b62a3522c5",
   "metadata": {},
   "outputs": [
    {
     "data": {
      "text/plain": [
       "37592"
      ]
     },
     "execution_count": 10,
     "metadata": {},
     "output_type": "execute_result"
    }
   ],
   "source": [
    "no_of_params = sum(p.nelement() for p in parameters) # run this to check the number of parameters in the model \n",
    "no_of_params"
   ]
  },
  {
   "cell_type": "code",
   "execution_count": 11,
   "id": "d4888ffa-5852-469d-8576-05f673bafb22",
   "metadata": {},
   "outputs": [
    {
     "name": "stdout",
     "output_type": "stream",
     "text": [
      "Completed 0 iterations\n",
      "Completed 10000 iterations\n",
      "Completed 20000 iterations\n",
      "Completed 30000 iterations\n",
      "Completed 40000 iterations\n",
      "Completed 50000 iterations\n",
      "Completed 60000 iterations\n",
      "Completed 70000 iterations\n",
      "Completed 80000 iterations\n",
      "Completed 90000 iterations\n",
      "2.067049503326416\n"
     ]
    }
   ],
   "source": [
    "# Training\n",
    "\n",
    "# Hyperparameters - Training\n",
    "batch_size = 32\n",
    "iterations = 100000\n",
    "learning_rate = 0.1\n",
    "decay_rate = 0.05\n",
    "\n",
    "# For tracking the loss across each iteration\n",
    "stepi = []\n",
    "lossi = []\n",
    "\n",
    "# Training loop\n",
    "for i in range(iterations):\n",
    "    ix = torch.randint(0, Xtr.shape[0], (batch_size,)) # 50 random selections from the training set\n",
    "    emb = C[Xtr[ix]] # batch size x context length x embeddings\n",
    "    concat = emb.view(batch_size, emb_per_ch * context_length) # batch size x ( context length x embeddings )\n",
    "    h = torch.tanh(concat @ W1 + b1) # hidden layer activations\n",
    "    logits = h @ W2 + b2 # output layer activations\n",
    "    loss = F.cross_entropy(logits, Ytr[ix])\n",
    "    lossi.append(loss.item())\n",
    "    stepi.append(i)\n",
    "\n",
    "    if i % 10000 == 0:\n",
    "        print(f\"Completed {i} iterations\")\n",
    "    \n",
    "    # backward pass:\n",
    "    for p in parameters:\n",
    "        p.grad = None\n",
    "    \n",
    "    loss.backward()\n",
    "\n",
    "    lr = learning_rate * decay_rate**(i / iterations) # exponential learning rate decay\n",
    "    # lr = learning_rate if i < 50000 else learning_rate / 2\n",
    "    \n",
    "    for p in parameters:\n",
    "        p.data += -lr * p.grad\n",
    "        \n",
    "print(loss.item())"
   ]
  },
  {
   "cell_type": "code",
   "execution_count": 12,
   "id": "02be2133-0f8c-45bd-9fbb-162836a22778",
   "metadata": {},
   "outputs": [
    {
     "name": "stdout",
     "output_type": "stream",
     "text": [
      "2.494717836380005\n"
     ]
    }
   ],
   "source": [
    "# Tracks the model loss for the dev dataset, so how well our model performs on unseen data\n",
    "emb = C[Xdev]\n",
    "n = Xdev.shape[0]\n",
    "concat = emb.view(n, emb_per_ch * context_length)\n",
    "h = torch.tanh(concat @ W1 + b1)\n",
    "logits = h @ W2 + b2\n",
    "loss = F.cross_entropy(logits, Ydev)\n",
    "print(loss.item())"
   ]
  },
  {
   "cell_type": "code",
   "execution_count": 6,
   "id": "dc84e48f-ab04-45f8-8e8e-51470d94ba39",
   "metadata": {},
   "outputs": [
    {
     "data": {
      "text/plain": [
       "[<matplotlib.lines.Line2D at 0x1255a9a30>]"
      ]
     },
     "execution_count": 6,
     "metadata": {},
     "output_type": "execute_result"
    },
    {
     "data": {
      "image/png": "[encoded data removed]",
      "text/plain": [
       "<Figure size 640x480 with 1 Axes>"
      ]
     },
     "metadata": {},
     "output_type": "display_data"
    }
   ],
   "source": [
    "plt.plot(stepi, lossi)"
   ]
  },
  {
   "cell_type": "code",
   "execution_count": 15,
   "id": "ff7935b8-035b-48ff-86c2-f3adf5cb352f",
   "metadata": {},
   "outputs": [
    {
     "name": "stdout",
     "output_type": "stream",
     "text": [
      "Dlentin\n",
      "Mertele\n",
      "Nurtle\n",
      "Cenwys\n",
      "Onolun\n",
      "Cryn\n",
      "Lachi\n",
      "Hrarndo\n",
      "Larrisa\n",
      "Calina\n",
      "Anenna\n",
      "Rove\n",
      "Chetsey\n",
      "Criwantja\n",
      "Jas\n",
      "Concs\n",
      "Pennadi\n",
      "Alll\n",
      "Bezisha\n",
      "Lirs\n",
      "0.0\n"
     ]
    }
   ],
   "source": [
    "# Sampling from the MLP model:\n",
    "g = torch.Generator().manual_seed(12) # ensure reproducable results\n",
    "j = 0\n",
    "for _ in range (20):\n",
    "    out = []\n",
    "    context = [0] * context_length\n",
    "    while True:\n",
    "        emb = C[torch.tensor([context])]\n",
    "        concat = emb.view(1, emb_per_ch * context_length)\n",
    "        h = torch.tanh(concat @ W1 + b1)\n",
    "        logits = h @ W2 + b2\n",
    "        probs = F.softmax(logits, dim=1)\n",
    "        ix = torch.multinomial(probs, num_samples=1, generator = g).item()\n",
    "        context = context[1:] + [ix]\n",
    "        out.append(ix)\n",
    "        if ix == 0:\n",
    "            break\n",
    "\n",
    "    current_name = ''.join(itos[i] for i in out[:-1])   \n",
    "    print(current_name.capitalize())\n",
    "    \n",
    "\n",
    "    if current_name in words:\n",
    "        j += 1\n",
    "print(j/20 * 100) # Percentage of generated names that exist in the training set."
   ]
  },
  {
   "cell_type": "code",
   "execution_count": null,
   "id": "775041d2-c59b-4873-8749-5eac080a1b73",
   "metadata": {},
   "outputs": [],
   "source": []
  }
 ],
 "metadata": {
  "kernelspec": {
   "display_name": "Python 3 (ipykernel)",
   "language": "python",
   "name": "python3"
  },
  "language_info": {
   "codemirror_mode": {
    "name": "ipython",
    "version": 3
   },
   "file_extension": ".py",
   "mimetype": "text/x-python",
   "name": "python",
   "nbconvert_exporter": "python",
   "pygments_lexer": "ipython3",
   "version": "3.12.2"
  }
 },
 "nbformat": 4,
 "nbformat_minor": 5
}
