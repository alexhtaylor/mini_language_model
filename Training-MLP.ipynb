{
 "cells": [
  {
   "cell_type": "code",
   "execution_count": 268,
   "id": "ad9e8e0a-4272-4597-b282-857bb2f033ae",
   "metadata": {},
   "outputs": [
    {
     "name": "stdout",
     "output_type": "stream",
     "text": [
      "&&& ---> a\n",
      "&&a ---> a\n",
      "&aa ---> l\n",
      "aal ---> i\n",
      "ali ---> y\n",
      "liy ---> a\n",
      "iya ---> h\n",
      "yah ---> &\n",
      "&&& ---> a\n",
      "&&a ---> a\n",
      "&aa ---> r\n",
      "aar ---> e\n",
      "are ---> n\n",
      "ren ---> &\n",
      "&&& ---> a\n",
      "&&a ---> a\n",
      "&aa ---> r\n",
      "aar ---> i\n",
      "ari ---> k\n",
      "rik ---> a\n",
      "ika ---> &\n",
      "&&& ---> a\n",
      "&&a ---> a\n",
      "&aa ---> r\n",
      "aar ---> o\n",
      "aro ---> n\n",
      "ron ---> &\n",
      "&&& ---> a\n",
      "&&a ---> a\n",
      "&aa ---> r\n",
      "aar ---> t\n",
      "art ---> j\n",
      "rtj ---> a\n",
      "tja ---> n\n",
      "jan ---> &\n"
     ]
    }
   ],
   "source": [
    "import torch\n",
    "import torch.nn.functional as F\n",
    "import matplotlib.pyplot as plt # for making figures\n",
    "%matplotlib inline\n",
    "\n",
    "\n",
    "words = open('names.txt', 'r').read().splitlines()\n",
    "# Create the dataset\n",
    "chars = sorted(list(set(''.join(words)))) #lists all the unique characters in our names (it's just the lowercase alphabet + a few special characters)\n",
    "stoi = {s:i+1 for i,s in enumerate(chars)} # this creates a dictionary of values assigned to the characters (0-25)\n",
    "stoi['&'] = 0 # adding key-value pair to represent the start or end\n",
    "itos = {i:s for s,i in stoi.items()} # constructing a reverse dictionary to convert integers to characters\n",
    "\n",
    "block_size = 3 # we are adding a context of 3 characters to try and improve our predictions\n",
    "\n",
    "X, Y = [], []\n",
    "for w in words[:5]:\n",
    "    chs = ['&'] + list(w) + ['&']\n",
    "    context = [0] * block_size\n",
    "    for ch in w + '&':\n",
    "        ix = stoi[ch] # convert the first character in the bigram to its corresponding integer code\n",
    "        X.append(context)\n",
    "        Y.append(ix)\n",
    "        print(''.join(itos[i] for i in context), '--->', itos[ix])\n",
    "        context = context[1:] + [ix]\n",
    "\n",
    "X = torch.tensor(X)\n",
    "Y = torch.tensor(Y)\n",
    "n = len(X)\n",
    "# This code gives us X, a n * 3 tensor where n is the number of characters, each with 3 context elements (the three characters before it)\n",
    "# It also gives us Y, the n tensor of the character that follows the context from X, used for labelling our predictions"
   ]
  },
  {
   "cell_type": "code",
   "execution_count": 221,
   "id": "0d2a8052-76b8-4631-8687-65be1ce80e67",
   "metadata": {},
   "outputs": [
    {
     "data": {
      "text/plain": [
       "(torch.Size([35, 3]), torch.int64, torch.Size([35]), torch.int64)"
      ]
     },
     "execution_count": 221,
     "metadata": {},
     "output_type": "execute_result"
    }
   ],
   "source": [
    "X.shape, X.dtype, Y.shape, Y.dtype"
   ]
  },
  {
   "cell_type": "code",
   "execution_count": 222,
   "id": "bfb1a70e-f81c-420b-bd74-407c9700faae",
   "metadata": {},
   "outputs": [
    {
     "data": {
      "text/plain": [
       "tensor([[ 1.8574,  0.5623],\n",
       "        [-0.0283,  0.2845],\n",
       "        [-0.3804,  1.4243],\n",
       "        [ 0.4341, -0.3705],\n",
       "        [-0.6409,  0.5280],\n",
       "        [ 1.9478,  0.4139],\n",
       "        [ 0.3081, -0.4918],\n",
       "        [-0.9847,  3.2403],\n",
       "        [ 0.5339, -1.3270],\n",
       "        [-0.8066, -0.9659],\n",
       "        [ 1.1379, -0.2471],\n",
       "        [ 0.6109, -0.0892],\n",
       "        [ 0.6801,  1.0716],\n",
       "        [ 0.3118, -0.4842],\n",
       "        [ 0.4405,  0.3705],\n",
       "        [-0.6029, -0.0157],\n",
       "        [-1.4054, -0.3364],\n",
       "        [-1.1616, -0.0765],\n",
       "        [-0.4631,  0.2529],\n",
       "        [-1.1752,  1.1175],\n",
       "        [ 0.0390,  0.1657],\n",
       "        [-1.2002, -0.3327],\n",
       "        [-0.3262,  1.2207],\n",
       "        [-1.9598,  0.3188],\n",
       "        [ 0.6085, -0.8702],\n",
       "        [ 0.5903,  0.1651],\n",
       "        [-0.6233, -1.1578],\n",
       "        [ 0.1482,  1.0501],\n",
       "        [ 0.4443, -0.6289],\n",
       "        [ 0.8312,  1.2267],\n",
       "        [-1.3161, -1.4766],\n",
       "        [ 1.7797,  0.3724]])"
      ]
     },
     "execution_count": 222,
     "metadata": {},
     "output_type": "execute_result"
    }
   ],
   "source": [
    "# Start of the forward pass with explanations:\n",
    "\n",
    "# Time to make the embeddings for each possible input character (a-z + special characters + & = 32)\n",
    "C = torch.randn(32, 2)\n",
    "# Creates a randomised 32x2 tensor of floats, eventually this will give the semantic meaning of each character in 2 dimensions\n",
    "C"
   ]
  },
  {
   "cell_type": "code",
   "execution_count": 210,
   "id": "961534c3-2c35-47ba-8132-880db7e41623",
   "metadata": {},
   "outputs": [
    {
     "data": {
      "text/plain": [
       "torch.Size([35, 3, 2])"
      ]
     },
     "execution_count": 210,
     "metadata": {},
     "output_type": "execute_result"
    }
   ],
   "source": [
    "# How do we embed our nx3 context tensor into this embedding tensor (32x2)\n",
    "emb = C[X] # like this, this gives us a nx3x2 tensor of embeddings\n",
    "# n = number of 3 character input contexts, 3 = the three characters of each input context, 2 = 2d embedding of each\n",
    "# character of each context\n",
    "emb.shape"
   ]
  },
  {
   "cell_type": "code",
   "execution_count": 396,
   "id": "72d1bd85-805a-4cbf-8513-64b76a262ee1",
   "metadata": {},
   "outputs": [
    {
     "data": {
      "text/plain": [
       "torch.Size([32, 100])"
      ]
     },
     "execution_count": 396,
     "metadata": {},
     "output_type": "execute_result"
    }
   ],
   "source": [
    "# lets make the hidden layer, by applying weights (W1) to the initial embeddings\n",
    "W1 = torch.randn(6, 100) # this makes us a 6x100 tensor, with 100 random weights for each of the 6 input neurons\n",
    "# (2 dimensions of the three context characters) one weight for each connection to the 100 neurons in the hidden later \n",
    "# You always need (number of input neurons (6) * number of output neurons (100) = 600) weights to account for every connection\n",
    "b1 = torch.randn(100) # these are the biases to be applied to each of the hidden layer neurons\n",
    "\n",
    "# So, to create the hidden later, we want to multiply each of the six input neurons by their 100 corresponding weights, then \n",
    "# sum the 6 results that will be gotten for each 100 hidden neurons, before adding the 100 biases, one for each hidden neuron\n",
    "\n",
    "# So we want to do this: emb @ W1 + b1\n",
    "\n",
    "# Part of this will involved multiplying the embeddings (nx3x2) by the weights (6x100). To do this we need to convert the nx3x2\n",
    "# embeddings to a nx6:\n",
    "# torch.cat(torch.unbind(emb, 1), 1) # we get a nx6 tensor, the 6 combines the 2 embeddings for the 3 context characters in n\n",
    "# concat.view(7, 30), .view() can reshape a tensor as long as the total number of data points is the same (30 * 7 = 35 * 6), n = 35 atm\n",
    "concat = emb.view(n, 6) # this is a the best way to convert to nx6 from nx3x2, more efficient as it doesn't create a new tensor\n",
    "# Note: for my own understanding, think of 35x3x2 as being 35 groups of 3 groups of 2 data points\n",
    "\n",
    "h = torch.tanh(concat @ W1 + b1) # this creates a hidden layer for each example in n, multiplying and summing all weights across all \n",
    "# neurons and adding the biases, done for every example. tanh is inlcuded to ensure all outputs are between -1 and 1\n",
    "h.shape"
   ]
  },
  {
   "cell_type": "code",
   "execution_count": 212,
   "id": "e07951ab-febb-44b5-87ee-2494e5f6bed0",
   "metadata": {},
   "outputs": [],
   "source": [
    "# Now to create the output layer, with 32 neurons for all possible next characters\n",
    "W2 = torch.randn(100, 32) # random weights for all connections between hidden layer and output layer\n",
    "b2 = torch.randn(32) # random biases for all output neurons"
   ]
  },
  {
   "cell_type": "code",
   "execution_count": 365,
   "id": "c911bdc4-1b18-4098-b681-ed4d77ee8d4b",
   "metadata": {},
   "outputs": [
    {
     "name": "stdout",
     "output_type": "stream",
     "text": [
      "4.953282356262207\n"
     ]
    }
   ],
   "source": [
    "logits = h @ W2 + b2 #logits are the output neuron activations\n",
    "\n",
    "\n",
    "# Below is the loss calculation from the logits, which we have replaced with cross_entropy which does the same thing:\n",
    "\n",
    "# counts = logits.exp() # exponentiate to get fake counts as before\n",
    "# probs = counts / counts.sum(1, keepdims=True) # softmax for probability distributions\n",
    "# # Now we have the probability distribution, time to assess the loss against our labels Y\n",
    "# # Following line picks out the probabilities assigned to the correct output as defined by Y values, assesses the loss\n",
    "# loss = -probs[torch.arange(n), Y].log().mean()\n",
    "# loss.item()\n",
    "\n",
    "# Cross entropy producing the same result (more efficient, not creating intermediate tensors, also deals with large logits better):\n",
    "loss = F.cross_entropy(logits, Y).item()\n",
    "print(loss)"
   ]
  },
  {
   "cell_type": "code",
   "execution_count": 489,
   "id": "d8345346-aea2-44b4-8e0a-c81907815684",
   "metadata": {},
   "outputs": [],
   "source": [
    "# From the start, here's how to setup the model, run this to reset it.\n",
    "import torch\n",
    "import torch.nn.functional as F\n",
    "\n",
    "words = open('names.txt', 'r').read().splitlines()\n",
    "\n",
    "# Create the dataset\n",
    "chars = sorted(list(set(''.join(words)))) \n",
    "stoi = {s:i+1 for i,s in enumerate(chars)}\n",
    "stoi['&'] = 0\n",
    "itos = {i:s for s,i in stoi.items()}\n",
    "\n",
    "block_size = 3\n",
    "\n",
    "X, Y = [], []\n",
    "for w in words:\n",
    "    chs = ['&'] + list(w) + ['&']\n",
    "    context = [0] * block_size\n",
    "    for ch in w + '&':\n",
    "        ix = stoi[ch]\n",
    "        X.append(context)\n",
    "        Y.append(ix)\n",
    "        context = context[1:] + [ix]\n",
    "\n",
    "X = torch.tensor(X)\n",
    "Y = torch.tensor(Y)\n",
    "n = len(X)\n",
    "\n",
    "# Parameters\n",
    "C = torch.randn(32, 2) # two random embeddings for each possible character\n",
    "W1 = torch.randn(6, 100) # hidden layer weights\n",
    "b1 = torch.randn(100) # hidden layer biases\n",
    "W2 = torch.randn(100, 32) # output layer weights\n",
    "b2 = torch.randn(32) # output layer biases\n",
    "\n",
    "parameters = [W1, b1, W2, b2, C]\n",
    "for p in parameters:\n",
    "    p.requires_grad = True\n",
    "\n",
    "emb = C[X] # embedding every input\n",
    "concat = emb.view(n, 6)\n",
    "h = torch.tanh(concat @ W1 + b1) # Hidden layer activations"
   ]
  },
  {
   "cell_type": "code",
   "execution_count": 508,
   "id": "1477b75c-e7cf-448a-81c3-9824f8d3923e",
   "metadata": {},
   "outputs": [
    {
     "name": "stdout",
     "output_type": "stream",
     "text": [
      "2.320967674255371\n"
     ]
    }
   ],
   "source": [
    "# Here's the optimised forward pass and backpropagration, outputting the loss values for each pass\n",
    "# Keeping learning rate as 0.1 after testing and confirming this to be the best\n",
    "\n",
    "for i in range(1000):\n",
    "    ix = torch.randint(0, X.shape[0], (50,)) # 50 character batch size\n",
    "    n = len(ix)\n",
    "    emb = C[X[ix]]\n",
    "    # print(emb.shape)\n",
    "    concat = emb.view(n, 6)\n",
    "    h = torch.tanh(concat @ W1 + b1)\n",
    "    logits = h @ W2 + b2\n",
    "    loss = F.cross_entropy(logits, Y[ix])\n",
    "    \n",
    "    # Entire backward pass:\n",
    "    for p in parameters:\n",
    "        p.grad = None\n",
    "    \n",
    "    loss.backward()\n",
    "    \n",
    "    for p in parameters:\n",
    "        p.data += -0.001 * p.grad\n",
    "        \n",
    "print(loss.item())"
   ]
  },
  {
   "cell_type": "code",
   "execution_count": 509,
   "id": "987b0b4c-e262-4085-b949-98299cf78ad7",
   "metadata": {},
   "outputs": [
    {
     "name": "stdout",
     "output_type": "stream",
     "text": [
      "2.4019243717193604\n"
     ]
    }
   ],
   "source": [
    "# Tracks the overall model loss for all inputs not just minibatch, used to check overall loss is matching minibatch loss\n",
    "emb = C[X]\n",
    "n = X.shape[0]\n",
    "# print(emb.shape)\n",
    "concat = emb.view(n, 6)\n",
    "h = torch.tanh(concat @ W1 + b1)\n",
    "logits = h @ W2 + b2\n",
    "loss = F.cross_entropy(logits, Y)\n",
    "print(loss.item())"
   ]
  },
  {
   "cell_type": "code",
   "execution_count": 494,
   "id": "7117f7e4-e234-43c6-8b99-0f5ac45ba435",
   "metadata": {},
   "outputs": [
    {
     "name": "stdout",
     "output_type": "stream",
     "text": [
      "4.858670711517334\n"
     ]
    },
    {
     "data": {
      "text/plain": [
       "[<matplotlib.lines.Line2D at 0x1258d23f0>]"
      ]
     },
     "execution_count": 494,
     "metadata": {},
     "output_type": "execute_result"
    },
    {
     "data": {
      "image/png": "[encoded data removed]",
      "text/plain": [
       "<Figure size 640x480 with 1 Axes>"
      ]
     },
     "metadata": {},
     "output_type": "display_data"
    }
   ],
   "source": [
    "# Optimisation of learning rate code, test 1000 different learning rates from 0.001 to 1, distributed exponentially\n",
    "\n",
    "lre = torch.linspace(-3, 0, 1000) # 1000 learning rate exponents betwen -3 and 0\n",
    "lrs = 10**lre # 100 example learning rates spaced between 10^-3 (0.001) and 10^0 (1)\n",
    "lri = []\n",
    "lossi = []\n",
    "for i in range(1000):\n",
    "    ix = torch.randint(0, X.shape[0], (32,))\n",
    "    n = len(ix)\n",
    "    emb = C[X[ix]]\n",
    "    # print(emb.shape)\n",
    "    concat = emb.view(n, 6)\n",
    "    h = torch.tanh(concat @ W1 + b1)\n",
    "    logits = h @ W2 + b2\n",
    "    loss = F.cross_entropy(logits, Y[ix])\n",
    "    \n",
    "    # Entire backward pass:\n",
    "    for p in parameters:\n",
    "        p.grad = None\n",
    "    \n",
    "    loss.backward()\n",
    "    \n",
    "    for p in parameters:\n",
    "        p.data += -lrs[i] * p.grad\n",
    "\n",
    "    # track stats\n",
    "    lri.append(lrs[i])\n",
    "    lossi.append(loss.item())\n",
    "print(loss.item())\n",
    "# This plot shows that the loss is infact minimized around 0.1 for the learning rate, so that was p much optimised anyway\n",
    "plt.plot(lri, lossi)"
   ]
  },
  {
   "cell_type": "code",
   "execution_count": 409,
   "id": "3306ba9b-0eac-442d-a1fd-61093b7adc0a",
   "metadata": {},
   "outputs": [
    {
     "name": "stdout",
     "output_type": "stream",
     "text": [
      "7.361836910247803\n",
      "6.842189788818359\n",
      "6.445642948150635\n",
      "6.121600151062012\n",
      "5.852452754974365\n"
     ]
    }
   ],
   "source": [
    "# Here's the original forward pass loop, before optimization\n",
    "\n",
    "for _ in range(5):\n",
    "    emb = C[X]\n",
    "    # print(emb.shape)\n",
    "    \n",
    "    concat = emb.view(n, 6)\n",
    "    h = torch.tanh(concat @ W1 + b1)\n",
    "    logits = h @ W2 + b2\n",
    "    loss = F.cross_entropy(logits, Y)\n",
    "    print(loss.item())\n",
    "    \n",
    "    # Entire backward pass:\n",
    "    for p in parameters:\n",
    "        p.grad = None\n",
    "    \n",
    "    loss.backward()\n",
    "    \n",
    "    for p in parameters:\n",
    "        p.data += -0.1 * p.grad"
   ]
  },
  {
   "cell_type": "code",
   "execution_count": 524,
   "id": "638d19d9-64eb-4b72-b72c-b613b19ca70c",
   "metadata": {},
   "outputs": [],
   "source": [
    "# To improve the model further, we need to split our data into training (80%), dev/validation (10%), and test (10%)\n",
    "\n",
    "# Building out newly structured dataset\n",
    "\n",
    "\n",
    "def build_dataset(words):\n",
    "    block_size = 3\n",
    "\n",
    "    X, Y = [], []\n",
    "    for w in words:\n",
    "        chs = ['&'] + list(w) + ['&']\n",
    "        context = [0] * block_size\n",
    "        for ch in w + '&':\n",
    "            ix = stoi[ch]\n",
    "            X.append(context)\n",
    "            Y.append(ix)\n",
    "            context = context[1:] + [ix]\n",
    "    \n",
    "    X = torch.tensor(X)\n",
    "    Y = torch.tensor(Y)\n",
    "    n = len(X)\n",
    "    return X, Y\n",
    "\n",
    "import random\n",
    "random.seed(42)\n",
    "random.shuffle(words)\n",
    "n1 = int(0.8*len(words))\n",
    "n2 = int(0.9*len(words))\n",
    "\n",
    "# Dataset splits\n",
    "Xtr, Ytr = build_dataset(words[:n1])\n",
    "Xdev, Ydev = build_dataset(words[n1:n2])\n",
    "Xtest, Ytest = build_dataset(words[n2:])"
   ]
  },
  {
   "cell_type": "code",
   "execution_count": 528,
   "id": "e115d4d0-06fe-4559-b940-9dd88914bb26",
   "metadata": {},
   "outputs": [
    {
     "name": "stdout",
     "output_type": "stream",
     "text": [
      "2.5178327560424805\n"
     ]
    }
   ],
   "source": [
    "# This is the model being trained on the training dataset Xtr\n",
    "\n",
    "for i in range(1000):\n",
    "    ix = torch.randint(0, Xtr.shape[0], (50,)) # 50 character batch size\n",
    "    n = len(ix)\n",
    "    emb = C[Xtr[ix]]\n",
    "    # print(emb.shape)\n",
    "    concat = emb.view(n, 6)\n",
    "    h = torch.tanh(concat @ W1 + b1)\n",
    "    logits = h @ W2 + b2\n",
    "    loss = F.cross_entropy(logits, Ytr[ix])\n",
    "    \n",
    "    # Entire backward pass:\n",
    "    for p in parameters:\n",
    "        p.grad = None\n",
    "    \n",
    "    loss.backward()\n",
    "    \n",
    "    for p in parameters:\n",
    "        p.data += -0.1 * p.grad\n",
    "        \n",
    "print(loss.item())"
   ]
  },
  {
   "cell_type": "code",
   "execution_count": 529,
   "id": "9e98660e-3e99-483c-9db2-64a0cb7f74c6",
   "metadata": {},
   "outputs": [
    {
     "name": "stdout",
     "output_type": "stream",
     "text": [
      "2.4523730278015137\n"
     ]
    }
   ],
   "source": [
    "# Tracks the model loss for the dev dataset, so how well our model performs on unseen data\n",
    "emb = C[Xdev]\n",
    "n = Xdev.shape[0]\n",
    "# print(emb.shape)\n",
    "concat = emb.view(n, 6)\n",
    "h = torch.tanh(concat @ W1 + b1)\n",
    "logits = h @ W2 + b2\n",
    "loss = F.cross_entropy(logits, Ydev)\n",
    "print(loss.item())"
   ]
  },
  {
   "cell_type": "code",
   "execution_count": 530,
   "id": "605eb0e9-f9df-47a9-92f1-2481367fbdfc",
   "metadata": {},
   "outputs": [],
   "source": [
    "# other optimisations to try, increasing hidden layer size, increasing embedding dimension from 2 to something bigger than 2"
   ]
  },
  {
   "cell_type": "code",
   "execution_count": 537,
   "id": "5f3e2482-bbb0-4c41-afe9-bace2e6e8f11",
   "metadata": {},
   "outputs": [
    {
     "data": {
      "image/png": "[encoded data removed]",
      "text/plain": [
       "<Figure size 800x800 with 1 Axes>"
      ]
     },
     "metadata": {},
     "output_type": "display_data"
    }
   ],
   "source": [
    "# Lets have a quick look at the current embeddings, as they are 2-dimensional we can view them on a 2-d scatter\n",
    "\n",
    "plt.figure(figsize=(8, 8))\n",
    "plt.scatter(C[:,0].data, C[:, 1].data, s=200)\n",
    "for i in range(C.shape[0]):\n",
    "    plt.text(C[i, 0].item(), C[i, 1].item(), itos[i], ha=\"center\", va=\"center\", color=\"white\")\n",
    "plt.grid('minor')"
   ]
  },
  {
   "cell_type": "code",
   "execution_count": null,
   "id": "0b46fb2b-88a7-4048-929e-bb498f452861",
   "metadata": {},
   "outputs": [],
   "source": [
    "\n",
    "# Knobs to play with and find out the best optimization: \n",
    "\n",
    "# Model itself:\n",
    "# Number of neurons in hidden layer\n",
    "# Number of dimensions of embedding\n",
    "# Number of characters in context\n",
    "\n",
    "# Training Process:\n",
    "# Number of training iterations (ie 100,000)\n",
    "# Learning rate (ie 0.1)\n",
    "# Learning rate decay (ie. switch to 0.01 after 100,000)\n",
    "# Batch size (number of random examples per training iteration (ie. 50)\n",
    "\n",
    "# Judging the performance:\n",
    "# Training dataset loss vs Dev loss: Generally lower is better, both identical = underfitting, both very different = overfitting."
   ]
  }
 ],
 "metadata": {
  "kernelspec": {
   "display_name": "Python 3 (ipykernel)",
   "language": "python",
   "name": "python3"
  },
  "language_info": {
   "codemirror_mode": {
    "name": "ipython",
    "version": 3
   },
   "file_extension": ".py",
   "mimetype": "text/x-python",
   "name": "python",
   "nbconvert_exporter": "python",
   "pygments_lexer": "ipython3",
   "version": "3.12.2"
  }
 },
 "nbformat": 4,
 "nbformat_minor": 5
}
