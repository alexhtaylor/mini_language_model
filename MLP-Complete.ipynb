{
 "cells": [
  {
   "cell_type": "code",
   "execution_count": 444,
   "id": "4fbb6611-f5a2-4722-a100-8393649c1d59",
   "metadata": {},
   "outputs": [
    {
     "name": "stdout",
     "output_type": "stream",
     "text": [
      "{1: ' ', 2: '!', 3: '\"', 4: '#', 5: '$', 6: '%', 7: '&', 8: \"'\", 9: '(', 10: ')', 11: '+', 12: ',', 13: '-', 14: '.', 15: '/', 16: '0', 17: '1', 18: '2', 19: '3', 20: '4', 21: '5', 22: '6', 23: '7', 24: '8', 25: '9', 26: ':', 27: ';', 28: '<', 29: '=', 30: '>', 31: '?', 32: '@', 33: '[', 34: ']', 35: '^', 36: '_', 37: 'a', 38: 'b', 39: 'c', 40: 'd', 41: 'e', 42: 'f', 43: 'g', 44: 'h', 45: 'i', 46: 'j', 47: 'k', 48: 'l', 49: 'm', 50: 'n', 51: 'o', 52: 'p', 53: 'q', 54: 'r', 55: 's', 56: 't', 57: 'u', 58: 'v', 59: 'w', 60: 'x', 61: 'y', 62: 'z', 63: '|', 64: '~', 0: '*'}\n"
     ]
    }
   ],
   "source": [
    "import torch\n",
    "import torch.nn.functional as F\n",
    "import matplotlib.pyplot as plt\n",
    "\n",
    "words = open('artist_names.txt', 'r').read().splitlines()\n",
    "\n",
    "# Create the dataset\n",
    "chars = sorted(list(set(''.join(words)))) \n",
    "stoi = {s:i+1 for i,s in enumerate(chars)}\n",
    "stoi['*'] = 0\n",
    "itos = {i:s for s,i in stoi.items()}\n",
    "\n",
    "print(itos)\n",
    "no_of_chs = len(itos)\n",
    "context_length = 10 # how many previous characters are taken into account before predicting the next one\n",
    "emb_per_ch = 100 # number of embedding dimensions per character (numbers representing a characters semantic meaning)\n",
    "hidden_layer_neurons = 500 # number of neurons in the hidden layer\n",
    "\n",
    "def build_dataset(words):\n",
    "\n",
    "    X, Y = [], []\n",
    "    for w in words:\n",
    "        chs = ['*'] + list(w) + ['*']\n",
    "        context = [0] * context_length\n",
    "        for ch in w + '*':\n",
    "            ix = stoi[ch]\n",
    "            X.append(context)\n",
    "            Y.append(ix)\n",
    "            context = context[1:] + [ix]\n",
    "    \n",
    "    X = torch.tensor(X)\n",
    "    Y = torch.tensor(Y)\n",
    "    n = len(X)\n",
    "    return X, Y\n",
    "\n",
    "import random\n",
    "random.seed(42)\n",
    "random.shuffle(words)\n",
    "n1 = int(0.8*len(words))\n",
    "n2 = int(0.9*len(words))\n",
    "# Dataset splits\n",
    "Xtr, Ytr = build_dataset(words[:n1])\n",
    "Xdev, Ydev = build_dataset(words[n1:n2])\n",
    "Xtest, Ytest = build_dataset(words[n2:])\n",
    "# Parameters\n",
    "C = torch.randn(no_of_chs, emb_per_ch) # each possible character has emb_per_ch embeddings\n",
    "W1 = torch.randn(emb_per_ch * context_length, hidden_layer_neurons) # hidden layer weights, \n",
    "b1 = torch.randn(hidden_layer_neurons) # hidden layer biases\n",
    "W2 = torch.randn(hidden_layer_neurons, no_of_chs) # output layer weights\n",
    "b2 = torch.randn(no_of_chs) # output layer biases\n",
    "\n",
    "parameters = [W1, b1, W2, b2, C]\n",
    "for p in parameters:\n",
    "    p.requires_grad = True"
   ]
  },
  {
   "cell_type": "code",
   "execution_count": 440,
   "id": "f78de027-979f-4801-bfda-e5b62a3522c5",
   "metadata": {},
   "outputs": [
    {
     "data": {
      "text/plain": [
       "519732"
      ]
     },
     "execution_count": 440,
     "metadata": {},
     "output_type": "execute_result"
    }
   ],
   "source": [
    "no_of_params = sum(p.nelement() for p in parameters) # run this to check the number of parameters in the model \n",
    "no_of_params"
   ]
  },
  {
   "cell_type": "code",
   "execution_count": 445,
   "id": "d4888ffa-5852-469d-8576-05f673bafb22",
   "metadata": {},
   "outputs": [
    {
     "name": "stdout",
     "output_type": "stream",
     "text": [
      "Completed 0 iterations\n",
      "Completed 10000 iterations\n",
      "Completed 20000 iterations\n",
      "Completed 30000 iterations\n",
      "Completed 40000 iterations\n",
      "Completed 50000 iterations\n",
      "Completed 60000 iterations\n",
      "Completed 70000 iterations\n",
      "Completed 80000 iterations\n",
      "Completed 90000 iterations\n",
      "2.7103021144866943\n",
      "2.7103021144866943\n"
     ]
    }
   ],
   "source": [
    "# Training\n",
    "\n",
    "stepi = []\n",
    "lossi = []\n",
    "batch_size = 50\n",
    "iterations = 100000\n",
    "learning_rate = 0.1\n",
    "\n",
    "for i in range(iterations):\n",
    "    ix = torch.randint(0, Xtr.shape[0], (batch_size,))\n",
    "    n = len(ix)\n",
    "    emb = C[Xtr[ix]]\n",
    "    # print(emb.shape)\n",
    "    concat = emb.view(n, emb_per_ch * context_length)\n",
    "    h = torch.tanh(concat @ W1 + b1)\n",
    "    logits = h @ W2 + b2\n",
    "    loss = F.cross_entropy(logits, Ytr[ix])\n",
    "    lossi.append(loss.item())\n",
    "    stepi.append(i)\n",
    "\n",
    "    if i % 10000 == 0:\n",
    "        print(f\"Completed {i} iterations\")\n",
    "    \n",
    "    # Entire backward pass:\n",
    "    for p in parameters:\n",
    "        p.grad = None\n",
    "    \n",
    "    loss.backward()\n",
    "\n",
    "    lr = learning_rate if i < (iterations / 2) else (learning_rate / 10)\n",
    "    \n",
    "    for p in parameters:\n",
    "        p.data += -lr * p.grad\n",
    "        \n",
    "print(lossi[-1])\n",
    "print(loss.item())"
   ]
  },
  {
   "cell_type": "code",
   "execution_count": 442,
   "id": "02be2133-0f8c-45bd-9fbb-162836a22778",
   "metadata": {},
   "outputs": [
    {
     "name": "stdout",
     "output_type": "stream",
     "text": [
      "2.5546250343322754\n"
     ]
    }
   ],
   "source": [
    "# Tracks the model loss for the dev dataset, so how well our model performs on unseen data\n",
    "emb = C[Xdev]\n",
    "n = Xdev.shape[0]\n",
    "# print(emb.shape)\n",
    "concat = emb.view(n, emb_per_ch * context_length)\n",
    "h = torch.tanh(concat @ W1 + b1)\n",
    "logits = h @ W2 + b2\n",
    "loss = F.cross_entropy(logits, Ydev)\n",
    "print(loss.item())"
   ]
  },
  {
   "cell_type": "code",
   "execution_count": 433,
   "id": "dc84e48f-ab04-45f8-8e8e-51470d94ba39",
   "metadata": {},
   "outputs": [
    {
     "data": {
      "text/plain": [
       "[<matplotlib.lines.Line2D at 0x13d193b00>]"
      ]
     },
     "execution_count": 433,
     "metadata": {},
     "output_type": "execute_result"
    },
    {
     "data": {
      "image/png": "[encoded data removed]",
      "text/plain": [
       "<Figure size 640x480 with 1 Axes>"
      ]
     },
     "metadata": {},
     "output_type": "display_data"
    }
   ],
   "source": [
    "plt.plot(stepi, lossi)"
   ]
  },
  {
   "cell_type": "code",
   "execution_count": 446,
   "id": "ff7935b8-035b-48ff-86c2-f3adf5cb352f",
   "metadata": {},
   "outputs": [
    {
     "name": "stdout",
     "output_type": "stream",
     "text": [
      "Britp.en\n",
      "Jhili\n",
      "Paase mlish\n",
      "Togla\n",
      "Anmi dner\n",
      "A magt e oa\n",
      "Ertay\n",
      "Bllin chqrsyy\n",
      "Steums &oor calo boztigh radestoredor\n",
      "Raringeg\n",
      "Dyril deume\n",
      "Ki roth dhifesroy\n",
      "Tis hecor\n",
      "Sthemia\n",
      "Tire bosl\n",
      "Feajilsoh\n",
      "Kamcclh yedter\n",
      "Atre skel\n",
      "Dlye fllall\n",
      "Mesilk cora\n"
     ]
    }
   ],
   "source": [
    "# Sampling from the MLP model:\n",
    "# g = torch.Generator().manual_seed(12)\n",
    "j = 0\n",
    "for _ in range (20):\n",
    "    out = []\n",
    "    context = [0] * context_length\n",
    "    while True:\n",
    "        emb = C[torch.tensor([context])]\n",
    "        concat = emb.view(1, emb_per_ch * context_length)\n",
    "        h = torch.tanh(concat @ W1 + b1)\n",
    "        logits = h @ W2 + b2\n",
    "        probs = F.softmax(logits, dim=1)\n",
    "        ix = torch.multinomial(probs, num_samples=1).item()\n",
    "        context = context[1:] + [ix]\n",
    "        out.append(ix)\n",
    "        if ix == 0:\n",
    "            break\n",
    "\n",
    "    current_name = ''.join(itos[i] for i in out[:-1])\n",
    "    # if current_name not in words:\n",
    "    #     print(current_name.capitalize())\n",
    "        \n",
    "    print(current_name.capitalize())\n",
    "    \n",
    "\n",
    "#     if current_name in words:\n",
    "#         j += 1\n",
    "# print(j/2000 * 100)"
   ]
  },
  {
   "cell_type": "code",
   "execution_count": 408,
   "id": "343ed287-953b-43ca-a3d8-79859ea25609",
   "metadata": {},
   "outputs": [
    {
     "name": "stdout",
     "output_type": "stream",
     "text": [
      "Number of training examples: 915912\n",
      "Number of context characters: 10\n",
      "Number of input embedding dimensions: 10\n",
      "Number of neurons in the hidden layer: 200\n",
      "Number of characters in training batch: 100\n",
      "Number of training iterations: 200000\n",
      "Total parameters: 33915\n",
      "Learning rate: 0.1 for first 100000 iterations, then 0.01 for remaining 100000 iterations\n"
     ]
    }
   ],
   "source": [
    "# Print the current settings\n",
    "\n",
    "print(f\"Number of training examples: {len(Ytr)}\")\n",
    "print(f\"Number of context characters: {context_length}\")\n",
    "print(f\"Number of input embedding dimensions: {emb_per_ch}\")\n",
    "print(f\"Number of neurons in the hidden layer: {hidden_layer_neurons}\")\n",
    "print(f\"Number of characters in training batch: {batch_size}\")\n",
    "print(f\"Number of training iterations: {iterations}\")\n",
    "print(f\"Total parameters: {no_of_params}\")\n",
    "print(f\"Learning rate: {learning_rate} for first {int(iterations / 2)} iterations, then {learning_rate / 10} for remaining {int(iterations / 2)} iterations\")"
   ]
  },
  {
   "cell_type": "code",
   "execution_count": null,
   "id": "775041d2-c59b-4873-8749-5eac080a1b73",
   "metadata": {},
   "outputs": [],
   "source": []
  }
 ],
 "metadata": {
  "kernelspec": {
   "display_name": "Python 3 (ipykernel)",
   "language": "python",
   "name": "python3"
  },
  "language_info": {
   "codemirror_mode": {
    "name": "ipython",
    "version": 3
   },
   "file_extension": ".py",
   "mimetype": "text/x-python",
   "name": "python",
   "nbconvert_exporter": "python",
   "pygments_lexer": "ipython3",
   "version": "3.12.2"
  }
 },
 "nbformat": 4,
 "nbformat_minor": 5
}
